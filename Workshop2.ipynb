{
  "cells": [
    {
      "cell_type": "markdown",
      "metadata": {
        "id": "view-in-github",
        "colab_type": "text"
      },
      "source": [
        "<a href=\"https://colab.research.google.com/github/sdhanraj1/BeginnerSessions/blob/answer%2Fupdate/Workshop2.ipynb\" target=\"_parent\"><img src=\"https://colab.research.google.com/assets/colab-badge.svg\" alt=\"Open In Colab\"/></a>"
      ]
    },
    {
      "cell_type": "markdown",
      "metadata": {
        "id": "3U4UiuHrhHeE"
      },
      "source": [
        "# **SWiCS x WiE Python Workshop 2**\n",
        "---\n",
        "###### Written by Olivia and Hayley Young 2023"
      ]
    },
    {
      "cell_type": "markdown",
      "metadata": {
        "id": "8U0C0ETZhHeG"
      },
      "source": [
        "## **Before you start...**\n",
        "\n",
        "If you have never worked with python, we recommend you go through the previous workshop's notebook that can be found at [this link](https://drive.google.com/drive/folders/1bmIe38jksFXj5-QlIDS3_16pOZw9e9ka?usp=sharing). Our demonstrators are also happy to help you with any of the notebooks created for these sessions (NOTE: We cannot help with assignments!)"
      ]
    },
    {
      "cell_type": "markdown",
      "metadata": {
        "id": "tDbtZmdVhHeG"
      },
      "source": [
        "## **Introduction to Notebooks**\n",
        "\n",
        "Notebooks are an easy way to run small snippets of code in a learning environment. Anything you learn here, you can put into your own coding projects!\n",
        "\n",
        "Below is an example of some code. You should understand it at this point (please go back to the beginner 1 notebook if you don't)"
      ]
    },
    {
      "cell_type": "code",
      "execution_count": null,
      "metadata": {
        "id": "uI57236rhHeH"
      },
      "outputs": [],
      "source": [
        "#Example comment! Comments can be used to add notes to your code to explain what things do what. I will be using comments to explain sections of code to you\n",
        "\n",
        "#This is some example code. CLick the little play button to run this code. Ask a demonstrator if you're unsure!\n",
        "for i in range(5):\n",
        "    print(\"This code is outputting to the console\")\n",
        "\n",
        "# If you've managed to run this code, you should see the sentence \"This code is outputting to the console\" outputted 5 times below!\n"
      ]
    },
    {
      "cell_type": "markdown",
      "metadata": {
        "id": "Ts-gcTyehHeI"
      },
      "source": [
        "All notebooks provided in these sessions will have explanations followed by examples and questions to test your understanding. Feel free to try out as many questions as you like and even put some of the code you learn into your own python files!"
      ]
    },
    {
      "cell_type": "markdown",
      "metadata": {
        "id": "xJUNl1JOhHeI"
      },
      "source": [
        "---"
      ]
    },
    {
      "cell_type": "markdown",
      "metadata": {
        "id": "ad_tjUW7hHeI"
      },
      "source": [
        "## **Section 1 : Lists**\n",
        "Lists are used to store multiple items in a single variable. They are one of the four main data types in python that store collections of data. The others are:\n",
        "* Sets\n",
        "* Dictionaries\n",
        "* Tuples\n",
        "\n",
        "We will be covering Dictionaries later on in this workshop. If you would like to know a bit more about the other two, please check out [W3Schools](https://www.w3schools.com/python/default.asp) and take a look at the sections on sets and dictionaries"
      ]
    },
    {
      "cell_type": "code",
      "execution_count": null,
      "metadata": {
        "id": "pvEWLaANhHeI"
      },
      "outputs": [],
      "source": [
        "# Example code- lists\n",
        "\n",
        "my_list = [\"apple\", \"banana\", \"cherry\"]\n",
        "\n",
        "print(my_list)\n",
        "\n",
        "# You can use for loops to go through each element in a list!\n",
        "for i in my_list:\n",
        "    print(i)"
      ]
    },
    {
      "cell_type": "code",
      "execution_count": null,
      "metadata": {
        "id": "MYdze1aXhHeJ"
      },
      "outputs": [],
      "source": [
        "# Example code- Adding to lists\n",
        "my_list = []\n",
        "for i in range(11): \n",
        "    my_list.append(i*5) # Using the built in function append, you can add an element to the end of each list\n",
        "print(my_list) \n",
        "# my_list goes from being empty to being [0, 5, 10, 15, 20, 25, 30, 35, 40, 45]"
      ]
    },
    {
      "cell_type": "markdown",
      "metadata": {
        "id": "RDNcp_qjhHeJ"
      },
      "source": [
        "### Question\n",
        "Create a list that contains three types of vegetable."
      ]
    },
    {
      "cell_type": "code",
      "execution_count": null,
      "metadata": {
        "id": "z7ctQ-MAhHeJ"
      },
      "outputs": [],
      "source": [
        "# Put your code here\n"
      ]
    },
    {
      "cell_type": "markdown",
      "metadata": {
        "id": "0bGYXVh5hHeJ"
      },
      "source": [
        "### Question\n",
        "Create an empty list. Then add the numbers 0-10 multiplied by 12 to it.\n"
      ]
    },
    {
      "cell_type": "code",
      "execution_count": null,
      "metadata": {
        "id": "auFhqi-jhHeJ"
      },
      "outputs": [],
      "source": [
        "# Put your code here\n"
      ]
    },
    {
      "cell_type": "markdown",
      "metadata": {
        "id": "t138XO7_hHeJ"
      },
      "source": [
        "### Lists: Multi-dimensional lists and nested for loops\n",
        "You can write a nested for loop by putting a for loop into the first loop as many times as you need to.\n",
        "You can use nested for loops like this to create or go through a multi-dimensional list.\n",
        "\n",
        "Multi-dimensional lists are lists that contain lists as each element"
      ]
    },
    {
      "cell_type": "code",
      "execution_count": null,
      "metadata": {
        "id": "O4yZ4yJjhHeK"
      },
      "outputs": [],
      "source": [
        "# Example code- nested for Loop\n",
        "for i in range(5):\n",
        "    line = \"\"\n",
        "    for j in range(5):\n",
        "        line += \"Hello \"\n",
        "    print(line)\n",
        "    \n",
        "# Example code- a multi dimensional list\n",
        "multi_list = [[1, 0, 0], [0, 1, 0], [0, 0, 1]]\n",
        "\n",
        "# Example code- printing each list inside this 2 dimensional list\n",
        "for row in multi_list:\n",
        "    print(row)\n",
        "\n",
        "# Example code- of printing each element in this 2 dimensional list\n",
        "for row in multi_list:\n",
        "    for element in row:\n",
        "        print(element)"
      ]
    },
    {
      "cell_type": "markdown",
      "metadata": {
        "id": "KsZVTOjIhHeK"
      },
      "source": [
        "### Bonus question!\n",
        "Create a 4 by 4 2 dimensional list with the value of each cell being the multiple of each column and row from 1-4.\n",
        "For example, in the cell, row 3 column 4, the value should be 12 (3*4 = 12)"
      ]
    },
    {
      "cell_type": "code",
      "execution_count": null,
      "metadata": {
        "id": "C-gJVgd1hHeK"
      },
      "outputs": [],
      "source": [
        "# Put your code here\n"
      ]
    },
    {
      "cell_type": "markdown",
      "metadata": {
        "id": "zRxnqPHrhHeK"
      },
      "source": [
        "---"
      ]
    },
    {
      "cell_type": "markdown",
      "metadata": {
        "id": "f2A10r2_hHeK"
      },
      "source": [
        "## **Section 2: List Comprehension**\n",
        "\n",
        "List comprehensions are a unique way of looping to fill a list in one line. They should be used with care as they can get quite complicated and difficult to understand when one embeds a list comprehension in another. But in simple cases,\n",
        "they are very concise!"
      ]
    },
    {
      "cell_type": "code",
      "execution_count": null,
      "metadata": {
        "id": "450VtpQGhHeK"
      },
      "outputs": [],
      "source": [
        "# A regular for loop to fill a list (we saw this before!)\n",
        "my_list = []\n",
        "for i in range(11):\n",
        "    my_list.append(i*5)\n",
        "print(my_list)\n",
        "\n",
        "# With list comprehensions you can reduce this to one line\n",
        "\n",
        "my_list = [i*5 for i in range(11)]\n",
        "print(my_list)\n",
        "\n",
        "# You can even add simple if else statements!\n",
        "\n",
        "my_list = [i*5 if i % 2 == 0 else i * 7 for i in range(11)]\n",
        "print(my_list)\n"
      ]
    },
    {
      "cell_type": "markdown",
      "metadata": {
        "id": "oAO3qzhPhHeL"
      },
      "source": [
        "### Question\n",
        "Create a list using list comprehension that stores the values from 0 to 20"
      ]
    },
    {
      "cell_type": "code",
      "execution_count": null,
      "metadata": {
        "id": "u1hMK3MfhHeL"
      },
      "outputs": [],
      "source": [
        "# Put your code here\n"
      ]
    },
    {
      "cell_type": "markdown",
      "metadata": {
        "id": "qo3PGovkhHeL"
      },
      "source": [
        "### Question\n",
        "Transform the code below to make it a list comprehension"
      ]
    },
    {
      "cell_type": "code",
      "execution_count": null,
      "metadata": {
        "id": "mDH6zY6XhHeL"
      },
      "outputs": [],
      "source": [
        "# Code to make into a list comprehension\n",
        "my_list = []\n",
        "for i in range(1, 10, 2):\n",
        "    my_list.append(i)\n",
        "    \n",
        "# Put your code here\n"
      ]
    },
    {
      "cell_type": "markdown",
      "metadata": {
        "id": "Yy4gPm4BhHeL"
      },
      "source": [
        "### Question \n",
        "Create a list comprehension that contains the square of numbers from 0 to 5 and print each of the results to the terminal using a for loop"
      ]
    },
    {
      "cell_type": "code",
      "execution_count": null,
      "metadata": {
        "id": "ItX1Xxm2hHeL"
      },
      "outputs": [],
      "source": [
        "# Put your code here\n"
      ]
    },
    {
      "cell_type": "markdown",
      "metadata": {
        "id": "0jTtvLsqhHeL"
      },
      "source": [
        "### A quick note...\n",
        "Before you tackle the next question, let's return quickly to the range function. The range function we have been using so far only has one number in the brackets, however it can have three values\n",
        "* The start index: The number you want to start your range from\n",
        "* The stop index: The number you want to finish your range at\n",
        "* The step index: The number you want each number to increment/decrement by each time you loop\n"
      ]
    },
    {
      "cell_type": "code",
      "execution_count": null,
      "metadata": {
        "id": "gTQNxRi5hHeM"
      },
      "outputs": [],
      "source": [
        "# Example- Printing numbers backwards\n",
        "\n",
        "for i in range(10, 0, -1): #Will print 10-1 (Note that the loop will stop one more before the stop index!)\n",
        "    print(i)"
      ]
    },
    {
      "cell_type": "markdown",
      "metadata": {
        "id": "ZjkJwwTVhHeM"
      },
      "source": [
        "### Question\n",
        "Create a list comprehension that contains the square of numbers from 1 to 7, but backwards!"
      ]
    },
    {
      "cell_type": "code",
      "execution_count": null,
      "metadata": {
        "id": "-wkvnnfEhHeM"
      },
      "outputs": [],
      "source": [
        "# Put your code here\n",
        "\n",
        "\n",
        "# output\n"
      ]
    },
    {
      "cell_type": "markdown",
      "metadata": {
        "id": "pN0j4G1rhHeM"
      },
      "source": [
        "### Bonus question! \n",
        "Create a list comprehension that:\n",
        "* Takes the square of a number if its less than 4\n",
        "* For anything else, it takes the cube of the number\n",
        "\n",
        "Note: You may need to use an if statement here, and the symbols for squaring and cubing are\n",
        "\n",
        "```\n",
        "Square= i**2\n",
        "Cube= i**3\n",
        "```"
      ]
    },
    {
      "cell_type": "code",
      "execution_count": null,
      "metadata": {
        "id": "i5_EI4cDhHeM"
      },
      "outputs": [],
      "source": [
        "# Put your code here\n",
        "\n",
        "\n",
        "# Output\n"
      ]
    },
    {
      "cell_type": "markdown",
      "metadata": {
        "id": "cTLvMB52hHeM"
      },
      "source": [
        "You don't necessarily have to store the created list in a function."
      ]
    },
    {
      "cell_type": "code",
      "execution_count": null,
      "metadata": {
        "scrolled": true,
        "id": "mBft8BiphHeN"
      },
      "outputs": [],
      "source": [
        "# Example of using a list comprehension to use it to print a sentence five times\n",
        "[print(\"SwiCS is best society\") for i in range (5)]"
      ]
    },
    {
      "cell_type": "markdown",
      "metadata": {
        "id": "ckmnPWPUhHeN"
      },
      "source": [
        "---"
      ]
    },
    {
      "cell_type": "markdown",
      "metadata": {
        "id": "lZF-coFEhHeN"
      },
      "source": [
        "## **Section 3: Functions**\n",
        "\n",
        "Functions allow you to reuse code you've written. You place the code you wish to reuse in a function declaration, then by calling that function's name, the code you've stored in the function will run.\n",
        "\n",
        "Functions in python follow this syntax:\n",
        "\n",
        "```\n",
        "def <name of the function>([optional parameters[=default value]]):\n",
        "    <content of the function>\n",
        "    return [optional return statement]\n",
        "```\n",
        "\n",
        "Parameters are used like variables. You can pass them into your function to change the output/ inner workings of the function.\n",
        "\n",
        "You can also assign a **default value** to the parameter with = next to the parameter's name and the value you wish is to be. This makes the parameter optional, as in you can run the function without filling the parameter with a value as it will use the default value"
      ]
    },
    {
      "cell_type": "code",
      "execution_count": null,
      "metadata": {
        "id": "GH-rJIYLhHeN"
      },
      "outputs": [],
      "source": [
        "# Declaring the function!\n",
        "def announce_best_society():\n",
        "   print(\"SwiCS is the best society\")\n",
        "\n",
        "# Calling the function.\n",
        "announce_best_society()"
      ]
    },
    {
      "cell_type": "code",
      "execution_count": null,
      "metadata": {
        "id": "jnAuVyhmhHeN"
      },
      "outputs": [],
      "source": [
        "# Using the same function but with parameters- Try changing up the best_society parameter and see how the function changes!\n",
        "def announce_best_society(best_society):\n",
        "   print(best_society,\"is the best society\")\n",
        "\n",
        "# Calling the function.\n",
        "best_society=\"WiE\"\n",
        "announce_best_society(best_society)"
      ]
    },
    {
      "cell_type": "markdown",
      "metadata": {
        "id": "1zmtSc_YhHeN"
      },
      "source": [
        "### Question\n",
        "Try creating a function that repeats a statement 9 times!"
      ]
    },
    {
      "cell_type": "code",
      "execution_count": null,
      "metadata": {
        "id": "jyC1RlvOhHeO"
      },
      "outputs": [],
      "source": [
        "# Put your code here\n",
        "\n",
        "\n",
        "# Output- Call your function here"
      ]
    },
    {
      "cell_type": "markdown",
      "metadata": {
        "id": "xWsXUdDbhHeO"
      },
      "source": [
        "### Question\n",
        "Modify your function so that it takes an input that will be used to determine how many times it should repeat the statement."
      ]
    },
    {
      "cell_type": "code",
      "execution_count": null,
      "metadata": {
        "id": "1FPd2VBxhHeO"
      },
      "outputs": [],
      "source": [
        "# Put your code here\n",
        "\n",
        "\n",
        "# Output - call your function 7 times\n"
      ]
    },
    {
      "cell_type": "markdown",
      "metadata": {
        "id": "PtBhVZPhhHeO"
      },
      "source": [
        "### Question\n",
        "Modify your function so that it takes another input for the text to be printed."
      ]
    },
    {
      "cell_type": "code",
      "execution_count": null,
      "metadata": {
        "id": "4JY-kDjshHeO"
      },
      "outputs": [],
      "source": [
        "# Put your code here\n",
        "\n",
        "\n",
        "# Output - call your function 5 times\n"
      ]
    },
    {
      "cell_type": "markdown",
      "metadata": {
        "id": "FmN7tbYthHeO"
      },
      "source": [
        "### Question\n",
        "Add a default value of 3 for the parameter, `times` so that it at least runs 3 times if it is not set."
      ]
    },
    {
      "cell_type": "code",
      "execution_count": null,
      "metadata": {
        "id": "av8lccimhHeO"
      },
      "outputs": [],
      "source": [
        "# Put your code here\n"
      ]
    },
    {
      "cell_type": "markdown",
      "metadata": {
        "id": "RxtQwiFVhHeO"
      },
      "source": [
        "### Question\n",
        "Create a function that takes three values, m, x, and c. This function will return m*x + c, name the function deduce_y(m, x, c)."
      ]
    },
    {
      "cell_type": "code",
      "execution_count": null,
      "metadata": {
        "id": "TgAHm_UHhHeP"
      },
      "outputs": [],
      "source": [
        "# Put your code here\n",
        "\n",
        "\n",
        "# Output - call your function with variables 3, 1.5, 2\n"
      ]
    },
    {
      "cell_type": "markdown",
      "metadata": {
        "id": "EecNOglhhHeP"
      },
      "source": [
        "---"
      ]
    },
    {
      "cell_type": "markdown",
      "metadata": {
        "id": "A91v1gmxhHeP"
      },
      "source": [
        "## **Section 4: Built in functions**\n",
        "\n",
        "Built in functions are functions already made for you when you install python. They contain commonly used code that you may need to repeat using. Python has some built in fuctions that are useful. Here is a list that we think you should know\n",
        "\n",
        "* `sorted()`\n",
        "* `zip()`\n",
        "* `sum()`\n",
        "* `len()`\n",
        "* `abs()`\n",
        "* `min()`\n",
        "* `max()`\n",
        "* `map()`\n",
        "* `filter()`\n",
        "\n",
        "In this section, we will have you to use each one. If you're interested in learning more about the build in functions, consult the [reference, here!](https://docs.python.org/3/library/functions.html) "
      ]
    },
    {
      "cell_type": "markdown",
      "metadata": {
        "id": "QnR3fWErhHeP"
      },
      "source": [
        "### Built-In Functions: `sorted()`\n",
        "\n",
        "`sorted()` sorts an iterable like a list like so: `sorted(unsorted_list)`\n",
        "\n",
        "### Question\n",
        "Use the `sorted()` function to sort the fibo list."
      ]
    },
    {
      "cell_type": "code",
      "execution_count": null,
      "metadata": {
        "id": "RQ-OEYUYhHeP"
      },
      "outputs": [],
      "source": [
        "fibo = [144, 1, 13, 55, 2, 21, 8, 89, 34, 233, 1, 3, 5]\n",
        "\n",
        "# Put your code here\n"
      ]
    },
    {
      "cell_type": "markdown",
      "metadata": {
        "id": "KfvMs-pvhHeP"
      },
      "source": [
        "### Built-In Functions: `zip()`\n",
        "\n",
        "`zip()` allows you to create a list of tuples from the elements of two or more iterables (like lists)  \n",
        "`zip()` can take as many iterables as you want it to If they are of uneven length then\n",
        "it will stop when the shortest iterable runs out of elements. Try it!\n"
      ]
    },
    {
      "cell_type": "code",
      "execution_count": null,
      "metadata": {
        "id": "MXpInGtohHeP"
      },
      "outputs": [],
      "source": [
        "#Example code\n",
        "\n",
        "x = [1, 2, 3]\n",
        "y = [4, 5, 6]\n",
        "print(list(zip(x, y))) #Note: The word list is another function that just puts what you've done into a list"
      ]
    },
    {
      "cell_type": "markdown",
      "metadata": {
        "id": "TiWdxSKkhHeQ"
      },
      "source": [
        "### Question\n",
        "Zip the following three lists"
      ]
    },
    {
      "cell_type": "code",
      "execution_count": null,
      "metadata": {
        "id": "96D-fdsrhHeQ"
      },
      "outputs": [],
      "source": [
        "headers = [\"Name\", \"Age\", \"Class\", \"Level\"]\n",
        "person_1 = [\"Adora\", \"20\", \"Warrior\", 27]\n",
        "person_2 = [\"Catra\", \"21\", \"Rogue\", 25]\n",
        "\n",
        "# Put your code here\n"
      ]
    },
    {
      "cell_type": "markdown",
      "metadata": {
        "id": "bZNMNn8zhHeQ"
      },
      "source": [
        "### Built-In Fuctions: `sum()`, `len()`, `min()` and `max()`\n",
        "`sum()` returns all values in an iterable (like a list)  \n",
        "`len()` returns the number of elements there are in an iterable (like a list)  \n",
        "`min()` and max returns the smallest and largest number in an iterable\n",
        "\n",
        "### Question\n",
        "Use the sum, len, min and max functions on fibo separately and print the results of each"
      ]
    },
    {
      "cell_type": "code",
      "execution_count": null,
      "metadata": {
        "id": "RuKGH8dKhHeQ"
      },
      "outputs": [],
      "source": [
        "fibo = [144, 1, 13, 55, 2, 21, 8, 89, 34, 233, 1, 3, 5]\n",
        "\n",
        "# Put your code here\n"
      ]
    },
    {
      "cell_type": "markdown",
      "metadata": {
        "id": "4o9kYaBfhHeQ"
      },
      "source": [
        "### Built-In Fuctions: ```abs()```\n",
        "Returns the absolute value of a number. You put the number you want to find the absolute value of in the brackets. So for example, abs(-10) = 10\n",
        "\n",
        "### Question \n",
        "Use ```abs()``` on each number in this list"
      ]
    },
    {
      "cell_type": "code",
      "execution_count": null,
      "metadata": {
        "scrolled": true,
        "id": "kMWIqRgxhHeQ"
      },
      "outputs": [],
      "source": [
        "a = [-5, -3.2, -5.6e10]\n",
        "\n",
        "# Put your code here\n"
      ]
    },
    {
      "cell_type": "markdown",
      "metadata": {
        "id": "2bFdklOWhHeR"
      },
      "source": [
        "### Built-In Fuctions: `map()`\n",
        "Applies a function to every element of an iterable (in our case, a list).\n",
        "Syntax is `map(<the function's name>, <the iterable>)`"
      ]
    },
    {
      "cell_type": "code",
      "execution_count": null,
      "metadata": {
        "scrolled": true,
        "id": "OqhIvw0OhHeR"
      },
      "outputs": [],
      "source": [
        "# Example code\n",
        "# Maps the sum function onto all the elements in the list, so 1+2+3, then 0+5+(-2) then 3+4+(-5)\n",
        "print(list(map(sum, [[1, 2, 3], [0, 5, -2], [3, 4, -5]])))"
      ]
    },
    {
      "cell_type": "markdown",
      "metadata": {
        "id": "wl8y_xlQhHeR"
      },
      "source": [
        "### Question\n",
        "Use `max()` with `map()` to get the largest number in each element of `list_to_map`\n",
        "To make the values visible, put the map function in a `list()` constructor otherwise it will return a map object"
      ]
    },
    {
      "cell_type": "code",
      "execution_count": null,
      "metadata": {
        "scrolled": true,
        "id": "uPPFiYNqhHeR"
      },
      "outputs": [],
      "source": [
        "list_to_map = [[155, 169], [135, 4, 38], [42, 97, 137, 142, 179], [84, 150, 30, 180], [39, 50]]\n",
        "\n",
        "# Put your code here\n"
      ]
    },
    {
      "cell_type": "markdown",
      "metadata": {
        "id": "ZMeXn0nThHeR"
      },
      "source": [
        "### Question\n",
        "Do the same as the previous exercise with `len()`"
      ]
    },
    {
      "cell_type": "code",
      "execution_count": null,
      "metadata": {
        "scrolled": true,
        "id": "F68Rc7YjhHeR"
      },
      "outputs": [],
      "source": [
        "list_to_map = [[155, 169], [135, 4, 38], [42, 97, 137, 142, 179], [84, 150, 30, 180], [39, 50]]\n",
        "\n",
        "# Put your code here\n"
      ]
    },
    {
      "cell_type": "markdown",
      "metadata": {
        "id": "zEOYNXbPhHeR"
      },
      "source": [
        "### Built-In Fuctions: filter()\n",
        "Applies a filter to every element of an iterable based on a given function that returns either true or false based on input.  \n",
        "Written as `filter(<the function's name>, <the iterable>)`\n",
        "\n",
        "### Question\n",
        "Use `is_even()` in combination with `filter()` on the `fibo` list to create a list of even numbers in `fibo`"
      ]
    },
    {
      "cell_type": "code",
      "execution_count": null,
      "metadata": {
        "scrolled": true,
        "id": "qTEYea0shHeR"
      },
      "outputs": [],
      "source": [
        "def is_even(number):\n",
        "    return number % 2 == 0\n",
        "\n",
        "def is_odd(number):\n",
        "    return not is_even(number)\n",
        "\n",
        "fibo = [144, 1, 13, 55, 2, 21, 8, 89, 34, 233, 1, 3, 5]\n",
        "\n",
        "# Put your code here\n"
      ]
    },
    {
      "cell_type": "markdown",
      "metadata": {
        "id": "E1H9XfDyhHeS"
      },
      "source": [
        "### Question \n",
        "Use `is_odd()` with `filter()` on the `fibo` list to create a list of odd numbers in `fibo`"
      ]
    },
    {
      "cell_type": "code",
      "execution_count": null,
      "metadata": {
        "scrolled": true,
        "id": "4F6Of8ADhHeS"
      },
      "outputs": [],
      "source": [
        "def is_even(number):\n",
        "    return number % 2 == 0\n",
        "\n",
        "def is_odd(number):\n",
        "    return not is_even(number)\n",
        "\n",
        "fibo = [144, 1, 13, 55, 2, 21, 8, 89, 34, 233, 1, 3, 5]\n",
        "\n",
        "# Put your code here\n"
      ]
    },
    {
      "cell_type": "markdown",
      "metadata": {
        "id": "Cpb6qlSdhHeS"
      },
      "source": [
        "### Bonus Question! \n",
        "Create a function that checks if a given input is even and above 20, then use it with `filter()` on `fibo`"
      ]
    },
    {
      "cell_type": "code",
      "execution_count": null,
      "metadata": {
        "scrolled": true,
        "id": "wvBhZfzAhHeS"
      },
      "outputs": [],
      "source": [
        "# Put your code here\n"
      ]
    },
    {
      "cell_type": "markdown",
      "metadata": {
        "id": "MKBgbN1UhHeS"
      },
      "source": [
        "---"
      ]
    },
    {
      "cell_type": "markdown",
      "metadata": {
        "id": "cndGkvQZhHeS"
      },
      "source": [
        "## **Section 5: Dictionaries**\n",
        "Dictionaries are an ordered collection of items. Each item of a dictionary has a key/value pair. The key is a unique identifier that you can use to search for the value with."
      ]
    },
    {
      "cell_type": "code",
      "execution_count": null,
      "metadata": {
        "id": "z0seJmuKhHeS"
      },
      "outputs": [],
      "source": [
        "#Example code\n",
        "person = {\n",
        "    \"Name\": \"Ellie\",\n",
        "    \"Course\": \"BSc Artificial Intelligence and Computer Science\",\n",
        "    \"Year\" : 1 # Note this is stored as an integer! Could also be stored as a string\n",
        "}\n",
        "\n",
        "print(person) # Will print the dictionary\n",
        "\n",
        "print(person.get(\"Name\")) # Can use the key \"Name\" to get the value associated with it\n",
        "\n",
        "\n",
        "# You can also use for loops to get all the values\n",
        "print(\"For Loop Example: \")\n",
        "\n",
        "for i in person:\n",
        "    print(person.get(i))"
      ]
    },
    {
      "cell_type": "markdown",
      "metadata": {
        "id": "anCTt_fGhHeT"
      },
      "source": [
        "If you want to automate the process of creating a dictionary from a list of keys and a list of values values, you can use a for loop. You can add key value pairs to a dictionary using this format:\n",
        "\n",
        "```\n",
        "Dictionary[key]=value\n",
        "```\n",
        "\n",
        "In the case below, the key is the days list at a certain point and the value is the events list at a certain point.\n"
      ]
    },
    {
      "cell_type": "code",
      "execution_count": null,
      "metadata": {
        "id": "_DAUm6ryhHeT"
      },
      "outputs": [],
      "source": [
        "#Example Code\n",
        "days = [\"Monday\", \"Tuesday\", \"Wednesday\", \"Thursday\", \"Friday\"]\n",
        "events = ['Python Workshop', 'Drinks with friends', 'Society night', 'Group meetings', 'TGIF']\n",
        "\n",
        "week = {}\n",
        "for i in range(len(days)):\n",
        "    week[days[i]] = events[i]\n",
        "\n",
        "\n",
        "print(week)"
      ]
    },
    {
      "cell_type": "markdown",
      "metadata": {
        "id": "CiPjzaOQhHeT"
      },
      "source": [
        "There is also another way to do it which is shown here. Using the zip function and two values (k and v are the commonly used names, but feel free to call them what you want), we can combine two lists in our for loop and put them into one dictionary."
      ]
    },
    {
      "cell_type": "code",
      "execution_count": null,
      "metadata": {
        "id": "USZDFK3DhHeT"
      },
      "outputs": [],
      "source": [
        "#Example code\n",
        "days = [\"Monday\", \"Tuesday\", \"Wednesday\", \"Thursday\", \"Friday\"]\n",
        "events = ['Python Workshop', 'Drinks with friends', 'Society night', 'Group meetings', 'TGIF']\n",
        "\n",
        "week = {}\n",
        "for k, v in zip(days,events):\n",
        "    week[k] = v\n",
        "\n",
        "print(week)"
      ]
    },
    {
      "cell_type": "markdown",
      "metadata": {
        "id": "ArsZ6Q8ghHeT"
      },
      "source": [
        "### Question\n",
        "Create another person dictionary for yourself (including your name, course and year). Then retrieve all the values of each of the keys and print them"
      ]
    },
    {
      "cell_type": "code",
      "execution_count": null,
      "metadata": {
        "id": "G8p8IsZkhHeT"
      },
      "outputs": [],
      "source": [
        "# Put your code here\n"
      ]
    },
    {
      "cell_type": "markdown",
      "metadata": {
        "id": "3iotR8BwhHeT"
      },
      "source": [
        "### Question\n",
        "Create a list of keys with the days of the week. Then create a list of values with the dates of the week. Finally, combine these together to make a dictionary"
      ]
    },
    {
      "cell_type": "code",
      "execution_count": null,
      "metadata": {
        "id": "YRECTRkQhHeU"
      },
      "outputs": [],
      "source": [
        "# Put your code here\n"
      ]
    },
    {
      "cell_type": "markdown",
      "metadata": {
        "id": "4CYr_lWDhHeU"
      },
      "source": [
        "---"
      ]
    },
    {
      "cell_type": "markdown",
      "metadata": {
        "id": "poqdkfeyhHeU"
      },
      "source": [
        "## **Section 6: Dictionary Compehension**\n",
        "\n",
        "You've been exposed to list comprehensions, in this section we'll cover dictionary comprehensions. \n",
        "instead of putting a for loop in square brackets `[]` you would use curly brackets `{}`. In the example below, the format is:\n",
        "\n",
        "```\n",
        "variable = { keys[position]: values[position] for i in range(range of values)}\n",
        "```"
      ]
    },
    {
      "cell_type": "code",
      "execution_count": null,
      "metadata": {
        "id": "vtweXYCZhHeU"
      },
      "outputs": [],
      "source": [
        "#Example Code\n",
        "\n",
        "days = [\"Monday\", \"Tuesday\", \"Wednesday\", \"Thursday\", \"Friday\"]\n",
        "events = ['Python Workshop', 'Drinks with Friends', 'Society Night', 'Group Meetings', 'TGIF']\n",
        "\n",
        "week = {}\n",
        "for i in range(len(days)):\n",
        "    week[days[i]] = events[i] #Not a dictionary comprehension\n",
        "\n",
        "print(week)\n",
        "\n",
        "\n",
        "week = {days[i]: events[i] for i in range(len(days))} #Is a dictionary comprehension!\n",
        "\n",
        "print(week) #If you run this, you'll see they both produce the same values, one is just a much easier way to write "
      ]
    },
    {
      "cell_type": "markdown",
      "metadata": {
        "id": "xOEtlCtMhHeU"
      },
      "source": [
        "### Question\n",
        "Convert the code below into a dictionary comprehension\n"
      ]
    },
    {
      "cell_type": "code",
      "execution_count": null,
      "metadata": {
        "id": "AM2F5yPkhHeV"
      },
      "outputs": [],
      "source": [
        "# Code to convert\n",
        "days = [\"Monday\", \"Tuesday\", \"Wednesday\", \"Thursday\", \"Friday\"]\n",
        "events = ['Python Workshop', 'Drinks with Friends', 'Society Night', 'Group Meetings', 'TGIF']\n",
        "week = {}\n",
        "for k, v in zip(days, events): #Note that this is just quick hand for combining two arrays to be a dictionary\n",
        "    week[k] = v\n",
        "\n",
        "# Put your code here\n"
      ]
    },
    {
      "cell_type": "markdown",
      "metadata": {
        "id": "gadkEnlLhHeV"
      },
      "source": [
        "### Bonus Question!\n",
        "Create another dictionary using dictionary comprehension but only include key, value pairs where ther value starts with \"K\"\n",
        "\n",
        "To add an if statement to a comprehension to decide if one were to add a value you have to add it to the end of the statement  \n",
        "```{k:v for k, v in <something> if <condition> else}```"
      ]
    },
    {
      "cell_type": "code",
      "execution_count": null,
      "metadata": {
        "id": "fi0EEjzghHeV"
      },
      "outputs": [],
      "source": [
        "keys = [\"earth\", \"fire\", \"water\", \"air\"]\n",
        "values = [\"Kyoshi\", \"Roku\", \"Korra\", \"Aang\"]\n",
        "\n",
        "# Put your code here\n"
      ]
    },
    {
      "cell_type": "markdown",
      "metadata": {
        "id": "pyRicCQAhHeV"
      },
      "source": [
        "---"
      ]
    },
    {
      "cell_type": "markdown",
      "metadata": {
        "id": "8BIMQDiDhHeV"
      },
      "source": [
        "### Workshop complete!\n",
        "Check out the other material for more help if you're struggling and ask our demonstrators during the workshops. Here's also some great links to help you with learning and understanding:\n",
        "\n",
        "* [W3Schools](https://www.w3schools.com/python/)\n",
        "* [Google's Python Development class](https://developers.google.com/edu/python)\n",
        "* [Our Material](https://drive.google.com/drive/folders/1j4ghhQrM00DniceFbIlEOdkdKayjtJfE?usp=sharing)"
      ]
    }
  ],
  "metadata": {
    "celltoolbar": "Tags",
    "kernelspec": {
      "display_name": "Python 3",
      "language": "python",
      "name": "python3"
    },
    "language_info": {
      "codemirror_mode": {
        "name": "ipython",
        "version": 3
      },
      "file_extension": ".py",
      "mimetype": "text/x-python",
      "name": "python",
      "nbconvert_exporter": "python",
      "pygments_lexer": "ipython3",
      "version": "3.11.1"
    },
    "vscode": {
      "interpreter": {
        "hash": "65af7e56d90f21aaf7581cdf12dbbdf810473f1d7faa72ea30c187f63053dcba"
      }
    },
    "colab": {
      "provenance": [],
      "include_colab_link": true
    }
  },
  "nbformat": 4,
  "nbformat_minor": 0
}